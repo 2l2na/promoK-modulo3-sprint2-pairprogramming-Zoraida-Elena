{
 "cells": [
  {
   "cell_type": "markdown",
   "metadata": {},
   "source": [
    "**Ejercicios ETL Parte I**\n",
    "\n",
    "En este caso trabajas en una empresa de venta al por menor de productos italianos y debes realizar la limpieza, transformación e integración de datos de ventas, productos y clientes para su análisis.\n",
    "\n",
    "1. Los pasos que deberás seguir en este ejercicio son:\n",
    "\n",
    "    - Lectura de la Información:\n",
    "\n",
    "    - Leer los archivos CSV (ventas.csv, productos.csv, clientes.csv)."
   ]
  },
  {
   "cell_type": "markdown",
   "metadata": {},
   "source": [
    "2. Explorar los conjuntos de datos para comprender su estructura, columnas, tipos de datos, etc.\n",
    "\n",
    "    - Transformación de Datos:\n",
    "\n",
    "    - Limpiar los datos: manejar valores nulos, eliminar duplicados si los hay, corregir errores tipográficos, etc.\n",
    "\n",
    "    - Realizar la integración de datos: unir los conjuntos de datos apropiados para obtener una tabla única que contenga información de ventas junto con detalles de productos y clientes.\n",
    "\n",
    "    - Aplicar transformaciones relevantes según sea necesario: por ejemplo, convertir tipos de datos, renombrar columnas, crear nuevas características derivadas, etc.\n",
    "\n",
    "NOTA Este ejercicio debe realizarse en un archivo .py"
   ]
  }
 ],
 "metadata": {
  "kernelspec": {
   "display_name": "Python 3",
   "language": "python",
   "name": "python3"
  },
  "language_info": {
   "name": "python",
   "version": "3.12.4"
  }
 },
 "nbformat": 4,
 "nbformat_minor": 2
}
