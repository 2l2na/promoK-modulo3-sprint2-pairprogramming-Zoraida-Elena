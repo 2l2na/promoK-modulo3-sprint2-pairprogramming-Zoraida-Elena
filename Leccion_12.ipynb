{
 "cells": [
  {
   "cell_type": "markdown",
   "metadata": {},
   "source": [
    "**Ejercicios ETL Parte II**\n",
    "\n",
    "Continuarás trabajando con los datos limpios y transformados de los ejercicios de ETL I para crear una base de datos y cargar los datos en ella.\n",
    "\n",
    "Los pasos del ejercicio son:\n",
    "\n",
    "1. Creación de la Base de Datos:\n",
    "\n",
    "    - Utilizar MySQL para crear una base de datos vacía.\n",
    "\n",
    "    - Definir la estructura de la base de datos: esquemas de tablas, relaciones entre ellas, etc."
   ]
  },
  {
   "cell_type": "markdown",
   "metadata": {},
   "source": [
    "2. Carga de Datos en la Base de Datos:\n",
    "\n",
    "    - Utilizar Python + SQL para insertar los datos transformados el día anterior.\n",
    "\n",
    "NOTA Este ejercicio debe realizarse en un archivo .py"
   ]
  }
 ],
 "metadata": {
  "language_info": {
   "name": "python"
  }
 },
 "nbformat": 4,
 "nbformat_minor": 2
}
