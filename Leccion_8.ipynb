{
 "cells": [
  {
   "cell_type": "markdown",
   "metadata": {},
   "source": [
    "**Ejercicios estadística descriptiva**\n",
    "\n",
    "En este caso usaremos el mismo DataFrame que hemos estado usando en los\n",
    "últimos ejercicios. El ejercicio que os planteamos es:\n",
    "Eres un analista de datos que trabaja para una organización internacional que se\n",
    "enfoca en el desarrollo y el bienestar de los países. Tu objetivo es realizar un\n",
    "análisis inicial de estadísticas descriptivas sobre varios países utilizando el\n",
    "conjunto de datos proporcionado.\n",
    "Objetivo: Realizar un análisis de estadísticas descriptivas para comprender mejor la\n",
    "situación de los países en términos de diversos indicadores."
   ]
  },
  {
   "cell_type": "markdown",
   "metadata": {},
   "source": [
    "Instrucciones:\n",
    "1. Calcula las siguientes estadísticas descriptivas para las variables numéricas:\n",
    "\n",
    "• Media\n",
    "• Mediana\n",
    "• Desviación estándar\n",
    "• Mínimo\n",
    "• Máximo"
   ]
  },
  {
   "cell_type": "markdown",
   "metadata": {},
   "source": [
    "2. Identifica el país con la mayor densidad de población y el país con la menor\n",
    "población en el conjunto de datos."
   ]
  },
  {
   "cell_type": "markdown",
   "metadata": {},
   "source": [
    "3. Calcula la tasa promedio de natalidad (birth_rate) para todos los países en elconjunto de datos."
   ]
  },
  {
   "cell_type": "markdown",
   "metadata": {},
   "source": [
    "4. Realiza un análisis de la mortalidad infantil (infant_mortality) y clasifica lospaíses en tres categorías: baja, moderada y alta mortalidad infantil."
   ]
  },
  {
   "cell_type": "markdown",
   "metadata": {},
   "source": [
    "5. Calcula la correlación entre las variables de \"fertility_rate\" y \"life_expectancy\".Interpreta la relación entre estas dos variables. ¿Qué tipo de correlación hay?Explica la razón de esta relación\n"
   ]
  },
  {
   "cell_type": "markdown",
   "metadata": {},
   "source": [
    "**Bonus:**\n",
    "\n",
    "6. Visualiza la distribución de la variable \"cpi\" utilizando un histograma y comentasobre la distribución de los índices de percepción de corrupción."
   ]
  },
  {
   "cell_type": "markdown",
   "metadata": {},
   "source": [
    "7. Encuentra el país con la mayor diferencia entre el \"gdp\" (Producto InternoBruto) y el \"co2-emissions\" (emisiones de dióxido de carbono)."
   ]
  },
  {
   "cell_type": "markdown",
   "metadata": {},
   "source": [
    "8. Calcula el porcentaje promedio de personas que participan en la fuerzalaboral(population_labor_force_participation) para todos los países."
   ]
  },
  {
   "cell_type": "markdown",
   "metadata": {},
   "source": [
    "9. Genera un mapa de calor (heatmap) de la matriz de correlación de todas lasvariables numéricas y discute las relaciones más destacadas."
   ]
  },
  {
   "cell_type": "markdown",
   "metadata": {},
   "source": [
    "Recuerda proporcionar interpretaciones y conclusiones basadas en los resultadosobtenidos en cada paso."
   ]
  }
 ],
 "metadata": {
  "language_info": {
   "name": "python"
  }
 },
 "nbformat": 4,
 "nbformat_minor": 2
}
